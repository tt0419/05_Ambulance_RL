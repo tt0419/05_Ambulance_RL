{
 "cells": [
  {
   "cell_type": "code",
   "execution_count": 4,
   "id": "0cf6d785",
   "metadata": {},
   "outputs": [
    {
     "data": {
      "text/plain": [
       "Index(['KEY_CODE', 'X_CODE', 'Y_CODE', 'day_type', 'hour', 'is_business_day',\n",
       "       'is_holiday', 'is_weekend', 'month', 'year', '事故種別', '住所', '出場_帰署分',\n",
       "       '出場_現着分', '出場_現着ＫＭ', '出場先丁目', '出場先区市', '出場先区市コード', '出場先町名', '出場先町名コード',\n",
       "       '出場先番地', '出場年月日時分', '収容初診時１傷病名称', '収容初診時２傷病名称', '収容医療機関コード',\n",
       "       '収容引継場所施設コード', '収容所見程度', '受令場所', '受令場所コード', '受令場所丁目', '受令場所区市',\n",
       "       '受令場所区市コード', '受令場所医療機関コード', '受令場所町名', '受令場所町名コード', '受令場所番地', '帰署年月日時分',\n",
       "       '年代', '年齢', '引揚_帰署分', '引揚_帰署ＫＭ', '引揚年月日時分', '引継_引揚分', '引継年月日時分', '性別',\n",
       "       '指令_出場分', '指令年月日時分', '救急事案番号キー', '現場_病着ＫＭ', '現発_病着分', '現発年月日時分',\n",
       "       '現着_現発分', '現着年月日時分', '病着_引継分', '病着年月日時分', '覚知_現着分', '覚知年月日時分', '隊名'],\n",
       "      dtype='object')"
      ]
     },
     "execution_count": 4,
     "metadata": {},
     "output_type": "execute_result"
    }
   ],
   "source": [
    "import pandas as pd\n",
    "\n",
    "df = pd.read_csv(r'C:\\Users\\tetsu\\OneDrive - Yokohama City University\\30_データカタログ\\tfd_data\\hanso_special_wards.csv')\n",
    "                 \n",
    "df.keys()"
   ]
  },
  {
   "cell_type": "code",
   "execution_count": null,
   "id": "2ae14762",
   "metadata": {},
   "outputs": [],
   "source": []
  }
 ],
 "metadata": {
  "kernelspec": {
   "display_name": "Python 3",
   "language": "python",
   "name": "python3"
  },
  "language_info": {
   "codemirror_mode": {
    "name": "ipython",
    "version": 3
   },
   "file_extension": ".py",
   "mimetype": "text/x-python",
   "name": "python",
   "nbconvert_exporter": "python",
   "pygments_lexer": "ipython3",
   "version": "3.11.9"
  }
 },
 "nbformat": 4,
 "nbformat_minor": 5
}
